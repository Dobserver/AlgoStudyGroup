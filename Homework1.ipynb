{
 "cells": [
  {
   "cell_type": "code",
   "execution_count": 20,
   "metadata": {},
   "outputs": [
    {
     "data": {
      "text/plain": [
       "'d'"
      ]
     },
     "execution_count": 20,
     "metadata": {},
     "output_type": "execute_result"
    }
   ],
   "source": [
    "# This is the first homework of Qishi Algo Study Group\n",
    "# Author: Liguo Wang\n",
    "# Date: 03/02/2019\n",
    "\n",
    "# 1 Leetcode 744. Find Smallest Letter Greater Than Target\n",
    "# https://leetcode.com/problems/find-smallest-letter-greater-than-target/description/\n",
    "# Given a list of sorted characters letters containing only lowercase letters, and given a target letter target, \n",
    "# find the smallest element in the list that is larger than the given target.\n",
    "# Letters also wrap around. For example, if the target is target = 'z' and letters = ['a', 'b'], the answer is 'a'.\n",
    "\n",
    "def find_smallest_letter(letters, a):\n",
    "    if letters[-1] <= a:\n",
    "        return letters[0]\n",
    "    else:\n",
    "        i = 0; r = len(letters) - 1\n",
    "        while(i < r):\n",
    "            m = i + int((r - i)/2)\n",
    "            if letters[m] <= a:\n",
    "                i = m + 1\n",
    "            else:\n",
    "                r = m\n",
    "        return letters[i]\n",
    "            \n",
    "  \n",
    "find_smallest_letter([\"a\", \"b\", \"c\", \"d\", \"e\"], \"c\")"
   ]
  },
  {
   "cell_type": "code",
   "execution_count": 23,
   "metadata": {},
   "outputs": [],
   "source": [
    "# 2. leetcode 475. Heaters\n",
    "# https://leetcode.com/problems/heaters/description/\n",
    "# Winter is coming! Your first job during the contest is to design a standard heater with fixed warm radius \n",
    "# to warm all the houses. Now, you are given positions of houses and heaters on a horizontal line, \n",
    "# find out minimum radius of heaters so that all houses could be covered by those heaters.\n",
    "# So, your input will be the positions of houses and heaters separately, \n",
    "# and your expected output will be the minimum radius standard of heaters.\n",
    "\n",
    "def find_radius(self, houses, heaters):\n",
    "\n",
    "        houses.sort()\n",
    "        heaters.sort()        \n",
    "        maxidx=0\n",
    "        s=0\n",
    "        for i in range(len(houses)):\n",
    "            temp=abs(heaters[s]-houses[i])\n",
    "            for j in range(s+1,len(heaters)):\n",
    "                if heaters[j]==houses[i]:\n",
    "                    temp=0\n",
    "                    break\n",
    "                elif heaters[j]<houses[i]:\n",
    "                    if houses[i]-heaters[j]<temp:\n",
    "                        temp=houses[i]-heaters[j]\n",
    "                    s=j\n",
    "                else:\n",
    "                    if heaters[j]-houses[i]<temp:\n",
    "                        temp=heaters[j]-houses[i]\n",
    "                    break\n",
    "            if temp>maxidx:\n",
    "                maxidx=temp\n",
    "        return maxidx\n"
   ]
  },
  {
   "cell_type": "code",
   "execution_count": 24,
   "metadata": {},
   "outputs": [],
   "source": [
    "# 3.Leetcode 34. Search for a Range\n",
    "# Note: Page not found\n",
    "# https://leetcode.com/problems/search-for-a-range/description/\n",
    "# Given an array of integers sorted in ascending order, find the starting and ending position of a given target value.\n",
    "# Your algorithm's runtime complexity must be in the order of O(log n).\n",
    "# If the target is not found in the array, return [-1, -1].\n",
    "# For example, Given [5, 7, 7, 8, 8, 10] and target value 8, return [3, 4].\n",
    "\n",
    "def search_range(self, nums, target):\n",
    "        \n",
    "        a,b,c,d = 0, len(nums)-1, 0, len(nums)-1\n",
    "        \n",
    "        while a<b:\n",
    "            mid = a+((b-a)>>1)\n",
    "            if target<=nums[mid]:\n",
    "                b = mid\n",
    "            else:\n",
    "                a = mid+1\n",
    "        \n",
    "        if nums[a]!=target:\n",
    "            return [-1,-1]\n",
    "                \n",
    "        while c<d:\n",
    "            mid = c+((d-c+1)>>1)\n",
    "            if target<nums[mid]:\n",
    "                d = mid-1\n",
    "            else:\n",
    "                c = mid\n",
    "                \n",
    "        return [a,c]"
   ]
  },
  {
   "cell_type": "code",
   "execution_count": 25,
   "metadata": {},
   "outputs": [],
   "source": [
    "# 4. Leetcode 162. Find Peak Element\n",
    "# https://leetcode.com/problems/find-peak-element/description/\n",
    "# A peak element is an element that is greater than its neighbors.\n",
    "# Given an input array where num[i] ≠ num[i+1], find a peak element and return its index.\n",
    "# The array may contain multiple peaks, in that case return the index to any one of the peaks is fine.\n",
    "# You may imagine that num[-1] = num[n] = -∞.\n",
    "# For example, in array [1, 2, 3, 1], 3 is a peak element and your function should return the index number 2.\n",
    "\n",
    "\n",
    "def find_peak_element(self, nums):\n",
    "\n",
    "        left, right = 0, len(nums) - 1\n",
    "        while left < right:\n",
    "            mid1 = (left + right) / 2\n",
    "            mid2 = mid1 + 1\n",
    "            if nums[mid1] < nums[mid2]:\n",
    "                left = mid2\n",
    "            else:\n",
    "                right = mid1\n",
    "        return left\n"
   ]
  },
  {
   "cell_type": "code",
   "execution_count": null,
   "metadata": {},
   "outputs": [],
   "source": [
    "# 5 Leecode 719. Find K-th Smallest Pair Distance\n",
    "# https://leetcode.com/problems/find-k-th-smallest-pair-distance/description/\n",
    "# Given an integer array, return the k-th smallest distance among all the pairs. \n",
    "# The distance of a pair (A, B) is defined as the absolute difference between A and B.\n",
    "# Example 1:\n",
    "# Input:\n",
    "# nums = [1,3,1]\n",
    "# k = 1\n",
    "# Output: 0 \n",
    "# Explanation:\n",
    "# Here are all the pairs:\n",
    "# (1,3) -> 2\n",
    "# (1,1) -> 0\n",
    "# (3,1) -> 2\n",
    "# Then the 1st smallest distance pair is (1,1), and its distance is 0."
   ]
  },
  {
   "cell_type": "code",
   "execution_count": null,
   "metadata": {},
   "outputs": [],
   "source": [
    "# 6. (google 面经题)有一条公路，长度是m, 中间有k个加油站，由此我们可以得到一个相邻加油站之间的最大距离，\n",
    "# 然后给你一个数t，这个数代表增加的加油站的数量（往里面插入），求使得相邻加油站之间最大距离变得最小的值，返回这个最小的最大距离。\n",
    "# http://www.1point3acres.com/bbs/thread-212722-1-1.html\n"
   ]
  }
 ],
 "metadata": {
  "kernelspec": {
   "display_name": "Python 3",
   "language": "python",
   "name": "python3"
  },
  "language_info": {
   "codemirror_mode": {
    "name": "ipython",
    "version": 3
   },
   "file_extension": ".py",
   "mimetype": "text/x-python",
   "name": "python",
   "nbconvert_exporter": "python",
   "pygments_lexer": "ipython3",
   "version": "3.7.0"
  }
 },
 "nbformat": 4,
 "nbformat_minor": 2
}
